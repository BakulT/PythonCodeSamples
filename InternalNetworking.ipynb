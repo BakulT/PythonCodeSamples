{
 "cells": [
  {
   "cell_type": "markdown",
   "metadata": {},
   "source": [
    "## Problem statement:\n",
    "### Given a list of employees and a list of their friendships, construct a friendship network and output in given format\n",
    "#1: 2, 3\n",
    "#2: 1, 4\n",
    "#3: 1\n",
    "#4: 2\n",
    "#6: None\n"
   ]
  },
  {
   "cell_type": "code",
   "execution_count": 33,
   "metadata": {},
   "outputs": [
    {
     "data": {
      "text/plain": [
       "[[1, 'Shilpa', 'Cybernetik'],\n",
       " [2, 'Gauri', 'Goethe'],\n",
       " [3, 'Mayur', 'Globant'],\n",
       " [4, 'rahul', 'Vuclip'],\n",
       " [5, 'Adwait', 'BWIR']]"
      ]
     },
     "execution_count": 33,
     "metadata": {},
     "output_type": "execute_result"
    }
   ],
   "source": [
    "employees=[[1,'Shilpa','Cybernetik'],[2,'Gauri','Goethe'],[3,'Mayur','Globant'],[4,'rahul','Vuclip'],[5,'Adwait','BWIR']]\n",
    "employees"
   ]
  },
  {
   "cell_type": "code",
   "execution_count": 38,
   "metadata": {},
   "outputs": [],
   "source": [
    "friendslist1=[[1,2],[1,3],[3,4]]\n",
    "#friendslist2=['1,2','1,3','3,5','2,4']"
   ]
  },
  {
   "cell_type": "code",
   "execution_count": 39,
   "metadata": {},
   "outputs": [],
   "source": [
    "from collections import defaultdict"
   ]
  },
  {
   "cell_type": "code",
   "execution_count": 40,
   "metadata": {},
   "outputs": [],
   "source": [
    "newdict=defaultdict(list)"
   ]
  },
  {
   "cell_type": "code",
   "execution_count": 41,
   "metadata": {},
   "outputs": [
    {
     "data": {
      "text/plain": [
       "defaultdict(list, {1: [2, 3], 2: [1], 3: [1, 4], 4: [3]})"
      ]
     },
     "execution_count": 41,
     "metadata": {},
     "output_type": "execute_result"
    }
   ],
   "source": [
    "for k,v in friendslist1:\n",
    "    newdict[k].append(v)\n",
    "    newdict[v].append(k)"
   ]
  },
  {
   "cell_type": "code",
   "execution_count": 65,
   "metadata": {},
   "outputs": [
    {
     "name": "stdout",
     "output_type": "stream",
     "text": [
      "#1: 2,3\n",
      "#2: 1\n",
      "#3: 1,4\n",
      "#4: 3\n",
      "#5: None\n"
     ]
    }
   ],
   "source": [
    "for x,y,z in employees:\n",
    "    if x in newdict:\n",
    "        print(f'#{x}: {\",\".join(map(str,newdict[x]))}')\n",
    "    else: \n",
    "        print(f'#{x}: None')"
   ]
  },
  {
   "cell_type": "code",
   "execution_count": null,
   "metadata": {},
   "outputs": [],
   "source": []
  }
 ],
 "metadata": {
  "kernelspec": {
   "display_name": "Python 3",
   "language": "python",
   "name": "python3"
  },
  "language_info": {
   "codemirror_mode": {
    "name": "ipython",
    "version": 3
   },
   "file_extension": ".py",
   "mimetype": "text/x-python",
   "name": "python",
   "nbconvert_exporter": "python",
   "pygments_lexer": "ipython3",
   "version": "3.7.0"
  }
 },
 "nbformat": 4,
 "nbformat_minor": 2
}
