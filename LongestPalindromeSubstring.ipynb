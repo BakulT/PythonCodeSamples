{
 "cells": [
  {
   "cell_type": "markdown",
   "metadata": {},
   "source": [
    "\"\"\"\n",
    "STATEMENT\n",
    "Given a string s, find the longest palindromic substring in s.\n",
    "CLARIFICATIONS\n",
    "- If there is no palindrome that is more than one character, we can report\n",
    "  any character? Yes.\n",
    "EXAMPLES\n",
    "\"babad\" -> \"bab\"\n",
    "\"cbbd\" -> \"bb\"\n",
    "COMMENTS\n",
    "- We can keep a cache to store the result for all possible substring.\n",
    "- Technically, the cache can be a list of list, but since the cache is half filled,\n",
    "  we can keep a dictionary of dictionaries.\n",
    "- O(n^2) time complexity and O(n^2) space complexity.\n",
    "\"\"\""
   ]
  },
  {
   "cell_type": "code",
   "execution_count": 33,
   "metadata": {},
   "outputs": [],
   "source": [
    "input_string=\"maryhadbcdbh\""
   ]
  },
  {
   "cell_type": "code",
   "execution_count": 35,
   "metadata": {},
   "outputs": [
    {
     "name": "stdout",
     "output_type": "stream",
     "text": [
      "No palindrome\n"
     ]
    }
   ],
   "source": [
    "#Check for entire string. Reduce len by 1 and keep checking by splitting. The moment you find a match or when length is down to 1 - quit\n",
    "KeepLooping=True\n",
    "strlen=len(input_string)\n",
    "\n",
    "for i in range(strlen,1,-1):\n",
    "    for x in range(strlen-i+1):\n",
    "        substr=input_string[x:x+i]\n",
    "        if substr==substr[::-1]:\n",
    "            KeepLooping=False\n",
    "            print(f'Longest Palindrome:{substr} of length {i} ')\n",
    "            break\n",
    "            \n",
    "                \n",
    "    if KeepLooping==False:\n",
    "        break\n",
    "\n",
    "if KeepLooping:\n",
    "    print(\"No palindrome\")\n",
    "    "
   ]
  }
 ],
 "metadata": {
  "kernelspec": {
   "display_name": "Python 3",
   "language": "python",
   "name": "python3"
  },
  "language_info": {
   "codemirror_mode": {
    "name": "ipython",
    "version": 3
   },
   "file_extension": ".py",
   "mimetype": "text/x-python",
   "name": "python",
   "nbconvert_exporter": "python",
   "pygments_lexer": "ipython3",
   "version": "3.7.0"
  }
 },
 "nbformat": 4,
 "nbformat_minor": 2
}
