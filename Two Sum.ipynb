{
 "cells": [
  {
   "cell_type": "markdown",
   "metadata": {},
   "source": [
    "## Problem Statement\n",
    "\n",
    "Given an array of integers, return indices of the two numbers such that they add up to a specific target.\n",
    "\n",
    "You may assume that each input would have exactly one solution, and you may not use the same element twice.\n",
    "\n",
    "Example:\n",
    "\n",
    "Given nums = [2, 7, 11, 15], target = 9,\n",
    "\n",
    "Because nums[0] + nums[1] = 2 + 7 = 9,\n",
    "return [0, 1].\n",
    "\n",
    "Assuming negative numbers are also part of array"
   ]
  },
  {
   "cell_type": "code",
   "execution_count": 11,
   "metadata": {},
   "outputs": [],
   "source": [
    "import random"
   ]
  },
  {
   "cell_type": "code",
   "execution_count": 12,
   "metadata": {},
   "outputs": [],
   "source": [
    "numlist=[]"
   ]
  },
  {
   "cell_type": "code",
   "execution_count": 65,
   "metadata": {},
   "outputs": [],
   "source": [
    "#num_array=list(random.randint(1,20))\n",
    "for i in range(10):\n",
    "    numlist.append(random.randint(1,20))"
   ]
  },
  {
   "cell_type": "code",
   "execution_count": 66,
   "metadata": {},
   "outputs": [],
   "source": [
    "numlist=list(set(numlist))\n"
   ]
  },
  {
   "cell_type": "code",
   "execution_count": 67,
   "metadata": {},
   "outputs": [
    {
     "data": {
      "text/plain": [
       "[1, 3, 4, 5, 10, 11, 16, 17, 18, 20]"
      ]
     },
     "execution_count": 67,
     "metadata": {},
     "output_type": "execute_result"
    }
   ],
   "source": [
    "numlist"
   ]
  },
  {
   "cell_type": "code",
   "execution_count": 73,
   "metadata": {},
   "outputs": [
    {
     "name": "stdout",
     "output_type": "stream",
     "text": [
      "Please enter target number:31\n"
     ]
    }
   ],
   "source": [
    "target=int(input(\"Please enter target number:\"))"
   ]
  },
  {
   "cell_type": "markdown",
   "metadata": {},
   "source": [
    "## Method 1: Simple"
   ]
  },
  {
   "cell_type": "code",
   "execution_count": 64,
   "metadata": {},
   "outputs": [
    {
     "name": "stdout",
     "output_type": "stream",
     "text": [
      "No numbers found\n"
     ]
    }
   ],
   "source": [
    "Found=False\n",
    "#while not(Found):\n",
    "for i in range(len(numlist)-1):\n",
    "    split1,split2=int(numlist[i]),numlist[i+1:]\n",
    "    if split1>target:\n",
    "        break\n",
    "        \n",
    "    for x in split2:\n",
    "        if split1+x==target:\n",
    "            print(f'Found 2 numbers at index: {i,numlist.index(x)}')\n",
    "            Found=True\n",
    "            break\n",
    "        elif split1+x>target:\n",
    "            break\n",
    "     \n",
    "    if Found==True:\n",
    "        break\n",
    "        \n",
    "#    foundlist=[[i,numlist.index(x)] for x in split2 if (split1+x==target)]\n",
    "#    if foundlist:\n",
    "#        Found=True\n",
    "#        print(f'Found 2 numbers at index: {foundlist[0][0]},{foundlist[0][1]}')\n",
    "#       break\n",
    "\n",
    "if Found==False:\n",
    "    print(\"No numbers found\")\n",
    "\n",
    "    \n",
    "    \n",
    "    "
   ]
  },
  {
   "cell_type": "markdown",
   "metadata": {},
   "source": [
    "## Method 2: Reducing complexity"
   ]
  },
  {
   "cell_type": "code",
   "execution_count": 77,
   "metadata": {},
   "outputs": [
    {
     "name": "stdout",
     "output_type": "stream",
     "text": [
      "Found 2 numbers at index: 5,9\n"
     ]
    }
   ],
   "source": [
    "## OPtion 2:\n",
    "\n",
    "for i in range(len(numlist)):\n",
    "    try:\n",
    "        foundit=numlist.index(target-numlist[i])\n",
    "        print(f'Found 2 numbers at index: {i},{numlist.index(target-numlist[i])}')\n",
    "        Found=True\n",
    "        break\n",
    "    except ValueError:\n",
    "        continue\n",
    "\n",
    "if Found==False:\n",
    "    print('Numbers not found')\n",
    "    \n",
    "    \n"
   ]
  },
  {
   "cell_type": "code",
   "execution_count": null,
   "metadata": {},
   "outputs": [],
   "source": []
  }
 ],
 "metadata": {
  "kernelspec": {
   "display_name": "Python 3",
   "language": "python",
   "name": "python3"
  },
  "language_info": {
   "codemirror_mode": {
    "name": "ipython",
    "version": 3
   },
   "file_extension": ".py",
   "mimetype": "text/x-python",
   "name": "python",
   "nbconvert_exporter": "python",
   "pygments_lexer": "ipython3",
   "version": "3.7.0"
  }
 },
 "nbformat": 4,
 "nbformat_minor": 2
}
