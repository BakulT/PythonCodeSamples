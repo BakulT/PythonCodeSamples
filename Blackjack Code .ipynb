{
 "cells": [
  {
   "cell_type": "markdown",
   "metadata": {
    "collapsed": true
   },
   "source": [
    "# Milestone Project 2 - Coded by Bakul T based on following instructions\n",
    "Below is a set of steps for you to follow to try to create the Blackjack Milestone Project game!"
   ]
  },
  {
   "cell_type": "markdown",
   "metadata": {},
   "source": [
    "## Game Play\n",
    "To play a hand of Blackjack the following steps must be followed:\n",
    "1. Create a deck of 52 cards\n",
    "2. Shuffle the deck\n",
    "3. Ask the Player for their bet\n",
    "4. Make sure that the Player's bet does not exceed their available chips\n",
    "5. Deal two cards to the Dealer and two cards to the Player\n",
    "6. Show only one of the Dealer's cards, the other remains hidden\n",
    "7. Show both of the Player's cards\n",
    "8. Ask the Player if they wish to Hit, and take another card\n",
    "9. If the Player's hand doesn't Bust (go over 21), ask if they'd like to Hit again.\n",
    "10. If a Player Stands, play the Dealer's hand. The dealer will always Hit until the Dealer's value meets or exceeds 17\n",
    "11. Determine the winner and adjust the Player's chips accordingly\n",
    "12. Ask the Player if they'd like to play again"
   ]
  },
  {
   "cell_type": "code",
   "execution_count": 1,
   "metadata": {},
   "outputs": [],
   "source": [
    "import random\n",
    "\n",
    "suits = ('Hearts', 'Diamonds', 'Spades', 'Clubs')\n",
    "ranks = ('Two', 'Three', 'Four', 'Five', 'Six', 'Seven', 'Eight', 'Nine', 'Ten', 'Jack', 'Queen', 'King', 'Ace')\n",
    "values = {'Two':2, 'Three':3, 'Four':4, 'Five':5, 'Six':6, 'Seven':7, 'Eight':8, 'Nine':9, 'Ten':10, 'Jack':10,\n",
    "         'Queen':10, 'King':10, 'Ace':11}\n",
    "\n",
    "playing = True"
   ]
  },
  {
   "cell_type": "markdown",
   "metadata": {},
   "source": [
    "### Class Definitions\n",
    "Consider making a Card class where each Card object has a suit and a rank, then a Deck class to hold all 52 Card objects, and can be shuffled, and finally a Hand class that holds those Cards that have been dealt to each player from the Deck."
   ]
  },
  {
   "cell_type": "markdown",
   "metadata": {},
   "source": [
    "**Step 2: Create a Card Class**<br>\n",
    "A Card object really only needs two attributes: suit and rank. You might add an attribute for \"value\" - we chose to handle value later when developing our Hand class.<br>In addition to the Card's \\_\\_init\\_\\_ method, consider adding a \\_\\_str\\_\\_ method that, when asked to print a Card, returns a string in the form \"Two of Hearts\""
   ]
  },
  {
   "cell_type": "code",
   "execution_count": 2,
   "metadata": {},
   "outputs": [],
   "source": [
    "class Card:\n",
    "    \n",
    "    def __init__(self,suit,rank):\n",
    "        self.suit=suit\n",
    "        self.rank=rank\n",
    "    \n",
    "    def __str__(self):\n",
    "        return self.rank + \" of \" + self.suit"
   ]
  },
  {
   "cell_type": "markdown",
   "metadata": {},
   "source": [
    "**Step 3: Create a Deck Class**<br>\n",
    "Here we might store 52 card objects in a list that can later be shuffled. First, though, we need to *instantiate* all 52 unique card objects and add them to our list. So long as the Card class definition appears in our code, we can build Card objects inside our Deck \\_\\_init\\_\\_ method. \n",
    "\n",
    "In addition to an \\_\\_init\\_\\_ method we'll want to add methods to shuffle our deck, and to deal out cards during gameplay.<br><br>\n"
   ]
  },
  {
   "cell_type": "code",
   "execution_count": 3,
   "metadata": {},
   "outputs": [],
   "source": [
    "class Deck:\n",
    "    \n",
    "    def __init__(self):\n",
    "        self.deck = []  # start with an empty list\n",
    "        \n",
    "        for suit in suits:\n",
    "            for rank in ranks:\n",
    "                self.deck.append(Card(suit,rank))\n",
    "    \n",
    "    def __str__(self):\n",
    "        cardlist=[]\n",
    "        for card in self.deck:\n",
    "            cardlist.append(str(card))\n",
    "        return str(cardlist)\n",
    "\n",
    "    def shuffle(self):\n",
    "        random.shuffle(self.deck)\n",
    "        \n",
    "    def deal(self):\n",
    "        card=self.deck.pop()\n",
    "        return card"
   ]
  },
  {
   "cell_type": "markdown",
   "metadata": {},
   "source": [
    "**Step 4: Create a Hand Class**<br>\n",
    "In addition to holding Card objects dealt from the Deck, the Hand class may be used to calculate the value of those cards using the values dictionary defined above. It may also need to adjust for the value of Aces when appropriate."
   ]
  },
  {
   "cell_type": "code",
   "execution_count": 4,
   "metadata": {},
   "outputs": [],
   "source": [
    "class Hand:\n",
    "    def __init__(self):\n",
    "        self.cards = []  # start with an empty list as we did in the Deck class\n",
    "        self.value = 0   # start with zero value\n",
    "        self.aces = 0    # add an attribute to keep track of aces\n",
    "    \n",
    "    def add_card(self,card):\n",
    "        self.cards.append(card)\n",
    "        self.value+=values[card.rank]\n",
    "        if card.rank=='Ace':\n",
    "            self.aces+=1\n",
    "       \n",
    "    \n",
    "    def adjust_for_ace(self):\n",
    "        if self.value>=21 and self.aces>0:\n",
    "            self.value-=10\n",
    "            self.aces-=1\n",
    "            \n",
    "            \n",
    "            "
   ]
  },
  {
   "cell_type": "markdown",
   "metadata": {},
   "source": [
    "**Step 5: Create a Chips Class**<br>\n",
    "In addition to decks of cards and hands, we need to keep track of a Player's starting chips, bets, and ongoing winnings. This could be done using global variables, but in the spirit of object oriented programming, let's make a Chips class instead!"
   ]
  },
  {
   "cell_type": "code",
   "execution_count": 5,
   "metadata": {},
   "outputs": [],
   "source": [
    "class Chips:\n",
    "    \n",
    "    def __init__(self,total=100):\n",
    "        self.total = total  # This can be set to a default value or supplied by a user input\n",
    "        self.bet = 0\n",
    "        \n",
    "    def win_bet(self):\n",
    "        self.total+=self.bet\n",
    "    \n",
    "    def lose_bet(self):\n",
    "        self.total-=self.bet"
   ]
  },
  {
   "cell_type": "markdown",
   "metadata": {},
   "source": [
    "### Function Defintions\n",
    "A lot of steps are going to be repetitive. That's where functions come in! The following steps are guidelines - add or remove functions as needed in your own program."
   ]
  },
  {
   "cell_type": "markdown",
   "metadata": {},
   "source": [
    "**Step 6: Write a function for taking bets**<br>\n",
    "Since we're asking the user for an integer value, this would be a good place to use <code>try</code>/<code>except</code>. Remember to check that a Player's bet can be covered by their available chips."
   ]
  },
  {
   "cell_type": "code",
   "execution_count": 6,
   "metadata": {},
   "outputs": [],
   "source": [
    "def take_bet(chips):\n",
    "    while True:\n",
    "        try:\n",
    "            chips.bet=int(input(\"Please input your bet amount:\"))\n",
    "        except:\n",
    "            print(\"Please input valid bet\")\n",
    "            continue\n",
    "        else:\n",
    "            if chips.bet>chips.total:\n",
    "                print(\"Bet is more than the chips that you have. Please place a smaller bet.\")\n",
    "                continue\n",
    "            else:\n",
    "                print(f\"Bet of {chips.bet} value accepted \")\n",
    "                break\n",
    "    "
   ]
  },
  {
   "cell_type": "markdown",
   "metadata": {},
   "source": [
    "**Step 7: Write a function for taking hits**<br>\n",
    "Either player can take hits until they bust. This function will be called during gameplay anytime a Player requests a hit, or a Dealer's hand is less than 17. It should take in Deck and Hand objects as arguments, and deal one card off the deck and add it to the Hand. You may want it to check for aces in the event that a player's hand exceeds 21."
   ]
  },
  {
   "cell_type": "code",
   "execution_count": 7,
   "metadata": {},
   "outputs": [],
   "source": [
    "def hit(deck,hand):\n",
    "    hand.add_card(deck.deal())\n",
    "    if hand.value>21:\n",
    "        hand.adjust_for_ace()"
   ]
  },
  {
   "cell_type": "markdown",
   "metadata": {},
   "source": [
    "**Step 8: Write a function prompting the Player to Hit or Stand**<br>\n",
    "This function should accept the deck and the player's hand as arguments, and assign playing as a global variable.<br>\n",
    "If the Player Hits, employ the hit() function above. If the Player Stands, set the playing variable to False - this will control the behavior of a <code>while</code> loop later on in our code."
   ]
  },
  {
   "cell_type": "code",
   "execution_count": 8,
   "metadata": {},
   "outputs": [],
   "source": [
    "def hit_or_stand(deck,hand):\n",
    "    global playing  # to control an upcoming while loop\n",
    "    \n",
    "    while True:\n",
    "        x = input(\"Would you like to Hit or Stand? Enter 'h' or 's' \")\n",
    "        \n",
    "        if x[0].lower() == 'h':\n",
    "            hit(deck,hand)  # hit() function defined above\n",
    "        elif x[0].lower() == 's':\n",
    "            print(\"Player stands. Dealer is playing.\")\n",
    "            playing = False\n",
    "        else:\n",
    "            print(\"Sorry, please try again.\")\n",
    "            continue\n",
    "        break"
   ]
  },
  {
   "cell_type": "markdown",
   "metadata": {},
   "source": [
    "**Step 9: Write functions to display cards**<br>\n",
    "When the game starts, and after each time Player takes a card, the dealer's first card is hidden and all of Player's cards are visible. At the end of the hand all cards are shown, and you may want to show each hand's total value. Write a function for each of these scenarios."
   ]
  },
  {
   "cell_type": "code",
   "execution_count": 9,
   "metadata": {},
   "outputs": [],
   "source": [
    "def show_some(player,dealer):\n",
    "    #clear_output()\n",
    "    print(\"\\n\\nPlayer cards:\")\n",
    "    for card in player.cards:\n",
    "        print(card)\n",
    "    print(\"Dealer cards:\")\n",
    "    \n",
    "    for cardid in range(0,len(dealer.cards)):\n",
    "        if cardid==0:\n",
    "            print(\"Hidden card\")\n",
    "        else:\n",
    "            print(dealer.cards[cardid])\n",
    "    \n",
    "def show_all(player,dealer):\n",
    "    #clear_output()\n",
    "    print(\"\\n\\nPlayer cards:\")\n",
    "    for card in player.cards:\n",
    "        print(card)\n",
    "    print(\"Dealer cards:\")\n",
    "    for card in dealer.cards:\n",
    "        print(card)"
   ]
  },
  {
   "cell_type": "markdown",
   "metadata": {},
   "source": [
    "**Step 10: Write functions to handle end of game scenarios**<br>\n",
    "Remember to pass player's hand, dealer's hand and chips as needed."
   ]
  },
  {
   "cell_type": "code",
   "execution_count": 10,
   "metadata": {},
   "outputs": [],
   "source": [
    "def player_busts(chips):\n",
    "    chips.lose_bet()\n",
    "    print(\"Player bust\")\n",
    "        \n",
    "def player_wins(chips):   \n",
    "    print(\"Player wins\")\n",
    "    chips.win_bet()\n",
    "\n",
    "def dealer_busts(chips):\n",
    "    print(\"Dealer bust\")\n",
    "    chips.win_bet()\n",
    "    \n",
    "def dealer_wins(chips):\n",
    "    print(\"Dealer wins\")\n",
    "    chips.lose_bet()\n",
    "\n",
    "    \n",
    "def push():\n",
    "    print(\"Both equal. Push. Its a tie\")"
   ]
  },
  {
   "cell_type": "markdown",
   "metadata": {},
   "source": [
    "### And now on to the game!!"
   ]
  },
  {
   "cell_type": "code",
   "execution_count": 11,
   "metadata": {},
   "outputs": [
    {
     "name": "stdout",
     "output_type": "stream",
     "text": [
      "Let's play blackjack\n",
      "Please input your bet amount:250\n",
      "Bet of 250 value accepted \n",
      "\n",
      "\n",
      "Player cards:\n",
      "Four of Hearts\n",
      "Two of Spades\n",
      "Dealer cards:\n",
      "Hidden card\n",
      "Six of Hearts\n",
      "Would you like to Hit or Stand? Enter 'h' or 's' h\n",
      "\n",
      "\n",
      "Player cards:\n",
      "Four of Hearts\n",
      "Two of Spades\n",
      "Six of Clubs\n",
      "Dealer cards:\n",
      "Hidden card\n",
      "Six of Hearts\n",
      "Would you like to Hit or Stand? Enter 'h' or 's' h\n",
      "\n",
      "\n",
      "Player cards:\n",
      "Four of Hearts\n",
      "Two of Spades\n",
      "Six of Clubs\n",
      "Ten of Spades\n",
      "Dealer cards:\n",
      "Hidden card\n",
      "Six of Hearts\n",
      "Player bust\n",
      "\n",
      "\n",
      "Player cards:\n",
      "Four of Hearts\n",
      "Two of Spades\n",
      "Six of Clubs\n",
      "Ten of Spades\n",
      "Dealer cards:\n",
      "Ten of Clubs\n",
      "Six of Hearts\n",
      "Player chips total: 250\n",
      " Do you want to play again (Y/N)?: y\n",
      "Let's play blackjack\n",
      "Please input your bet amount:300\n",
      "Bet of 300 value accepted \n",
      "\n",
      "\n",
      "Player cards:\n",
      "Five of Clubs\n",
      "King of Spades\n",
      "Dealer cards:\n",
      "Hidden card\n",
      "Six of Diamonds\n",
      "Would you like to Hit or Stand? Enter 'h' or 's' h\n",
      "\n",
      "\n",
      "Player cards:\n",
      "Five of Clubs\n",
      "King of Spades\n",
      "Two of Hearts\n",
      "Dealer cards:\n",
      "Hidden card\n",
      "Six of Diamonds\n",
      "Would you like to Hit or Stand? Enter 'h' or 's' s\n",
      "Player stands. Dealer is playing.\n",
      "\n",
      "\n",
      "Player cards:\n",
      "Five of Clubs\n",
      "King of Spades\n",
      "Two of Hearts\n",
      "Dealer cards:\n",
      "Hidden card\n",
      "Six of Diamonds\n",
      "\n",
      "\n",
      "Player cards:\n",
      "Five of Clubs\n",
      "King of Spades\n",
      "Two of Hearts\n",
      "Dealer cards:\n",
      "Six of Spades\n",
      "Six of Diamonds\n",
      "King of Hearts\n",
      "Dealer bust\n",
      "Player chips total: 800\n",
      " Do you want to play again (Y/N)?: N\n",
      "Thanks for playing\n"
     ]
    }
   ],
   "source": [
    "playing=True\n",
    "while True:\n",
    "    # Print an opening statement\n",
    "    print(\"Let's play blackjack\")\n",
    "    \n",
    "    # Create & shuffle the deck, deal two cards to each player\n",
    "    NewDeck=Deck()\n",
    "    NewDeck.shuffle()\n",
    "    player=Hand()\n",
    "    dealer=Hand()\n",
    "    player.add_card(NewDeck.deal())\n",
    "    player.add_card(NewDeck.deal())\n",
    "    dealer.add_card(NewDeck.deal())\n",
    "    dealer.add_card(NewDeck.deal())\n",
    "    # Set up the Player's chips\n",
    "    playerChips=Chips(500)\n",
    "    \n",
    "    # Prompt the Player for their bet\n",
    "    take_bet(playerChips)\n",
    "    \n",
    "    # Show cards (but keep one dealer card hidden)\n",
    "    show_some(player, dealer)\n",
    "    \n",
    "    while playing:  # recall this variable from our hit_or_stand function\n",
    "        \n",
    "        # Prompt for Player to Hit or Stand\n",
    "        hit_or_stand(NewDeck,player)\n",
    "        \n",
    "        # Show cards (but keep one dealer card hidden)\n",
    "        show_some(player, dealer)\n",
    "    \n",
    "    \n",
    "    # If player's hand exceeds 21, run player_busts() and break out of loop\n",
    "        if player.value>21:\n",
    "            player_busts(playerChips)\n",
    "            break\n",
    "  \n",
    "    while player.value<=21 and dealer.value<17:\n",
    "        dealer.add_card(NewDeck.deal())\n",
    "    # If Player hasn't busted, play Dealer's hand until Dealer reaches 17\n",
    "        \n",
    "    \n",
    "        # Show all cards\n",
    "    show_all(player,dealer)\n",
    "        # Run different winning scenarios\n",
    "    if player.value<=21:\n",
    "        if dealer.value>=21:\n",
    "            dealer_busts(playerChips)\n",
    "        elif dealer.value<player.value:\n",
    "            player_wins(playerChips)\n",
    "        elif dealer.value>player.value:\n",
    "            dealer_wins(playerChips)\n",
    "        else:\n",
    "            push()\n",
    "    \n",
    "    # Inform Player of their chips total \n",
    "    print(f\"Player chips total: {playerChips.total}\")\n",
    "    \n",
    "    # Ask to play again\n",
    "    playagain=input(\" Do you want to play again (Y/N)?: \")\n",
    "    if playagain.lower()=='y':\n",
    "        continue\n",
    "    else:\n",
    "        print(\"Thanks for playing\")\n",
    "        break"
   ]
  },
  {
   "cell_type": "markdown",
   "metadata": {},
   "source": [
    "And that's it! Remember, these steps may differ significantly from your own solution. That's OK! Keep working on different sections of your program until you get the desired results. It takes a lot of time and patience! As always, feel free to post questions and comments to the QA Forums.\n",
    "# Good job!"
   ]
  },
  {
   "cell_type": "code",
   "execution_count": null,
   "metadata": {},
   "outputs": [],
   "source": []
  }
 ],
 "metadata": {
  "kernelspec": {
   "display_name": "Python 3",
   "language": "python",
   "name": "python3"
  },
  "language_info": {
   "codemirror_mode": {
    "name": "ipython",
    "version": 3
   },
   "file_extension": ".py",
   "mimetype": "text/x-python",
   "name": "python",
   "nbconvert_exporter": "python",
   "pygments_lexer": "ipython3",
   "version": "3.7.0"
  }
 },
 "nbformat": 4,
 "nbformat_minor": 1
}
