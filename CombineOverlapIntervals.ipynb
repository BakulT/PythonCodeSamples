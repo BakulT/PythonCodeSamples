{
 "cells": [
  {
   "cell_type": "markdown",
   "metadata": {},
   "source": [
    "\"\"\"\n",
    "STATEMENT\n",
    "Given a collection of intervals, merge all overlapping intervals.\n",
    "CLARIFICATIONS\n",
    "- If two intervals touch on the boundary, are they considered overlapping? Yes.\n",
    "- Are the intervals sorted in any way? Not necessarily.\n",
    "- Are the intervals given as object instantiations of some class or an array of start and end?\n",
    "  An object, define that too.\n",
    "EXAMPLES\n",
    "[1,3],[2,6],[8,10],[15,18] -> [1,6],[8,10],[15,18]."
   ]
  },
  {
   "cell_type": "code",
   "execution_count": 28,
   "metadata": {},
   "outputs": [],
   "source": [
    "list_of_intervals=[[2,6],[8,10],[1,2],[3,5],[11,16],[15,18]]"
   ]
  },
  {
   "cell_type": "code",
   "execution_count": 29,
   "metadata": {},
   "outputs": [],
   "source": [
    "def overlap(min_interval,max_interval):\n",
    "    new_interval=None\n",
    "    \n",
    "    if (min_interval[0]<=max_interval[0]<=min_interval[1]):\n",
    "        new_interval=[min(min_interval[0],max_interval[0]), max(min_interval[1],max_interval[1])]\n",
    "    \n",
    "    return new_interval"
   ]
  },
  {
   "cell_type": "code",
   "execution_count": 30,
   "metadata": {},
   "outputs": [],
   "source": [
    "overlapping_intervals=[]\n",
    "#Sort the intervals by first element firstly \n",
    "list_of_intervals.sort(key = lambda x:x[0])\n",
    "\n",
    "i=0\n",
    "inprogress=True\n",
    "\n",
    "while inprogress:\n",
    "    #check if overlap\n",
    "    found_overlap=overlap(list_of_intervals[i],list_of_intervals[i+1])\n",
    "    \n",
    "    #if overlap: replace element at i with \n",
    "    if found_overlap:\n",
    "        list_of_intervals[i]=found_overlap\n",
    "        list_of_intervals.pop(i+1)\n",
    "    else:\n",
    "        i+=1\n",
    "    \n",
    "    if i>=len(list_of_intervals)-1:\n",
    "        inprogress=False"
   ]
  },
  {
   "cell_type": "code",
   "execution_count": 31,
   "metadata": {},
   "outputs": [
    {
     "data": {
      "text/plain": [
       "[[1, 6], [8, 10], [11, 18]]"
      ]
     },
     "execution_count": 31,
     "metadata": {},
     "output_type": "execute_result"
    }
   ],
   "source": [
    "list_of_intervals"
   ]
  },
  {
   "cell_type": "code",
   "execution_count": null,
   "metadata": {},
   "outputs": [],
   "source": []
  }
 ],
 "metadata": {
  "kernelspec": {
   "display_name": "Python 3",
   "language": "python",
   "name": "python3"
  },
  "language_info": {
   "codemirror_mode": {
    "name": "ipython",
    "version": 3
   },
   "file_extension": ".py",
   "mimetype": "text/x-python",
   "name": "python",
   "nbconvert_exporter": "python",
   "pygments_lexer": "ipython3",
   "version": "3.7.0"
  }
 },
 "nbformat": 4,
 "nbformat_minor": 2
}
