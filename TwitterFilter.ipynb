{
 "cells": [
  {
   "cell_type": "markdown",
   "metadata": {},
   "source": [
    "## Problem: Find length of tweet\n",
    "#### Ignore user handles (starting with @)\n",
    "#### Ignore hashtags (starting with #. ae#2e is not valid hashtag. #2e is)\n",
    "#### Ignore punctuation\n",
    "#### Give final length"
   ]
  },
  {
   "cell_type": "code",
   "execution_count": null,
   "metadata": {},
   "outputs": [],
   "source": [
    "import re"
   ]
  },
  {
   "cell_type": "code",
   "execution_count": null,
   "metadata": {},
   "outputs": [],
   "source": [
    "#Accept input\n",
    "\n",
    "#\"#fundays @ttssh-hh let's go. What say? I am keen#5 . Bring it on #liveinthemoment #always\"\n",
    "inp_string=input(\"Please enter input tweet to analyze:\")\n",
    "\n",
    "#set working variables\n",
    "working_string=inp_string\n",
    "temp_string=''\n"
   ]
  },
  {
   "cell_type": "code",
   "execution_count": 11,
   "metadata": {},
   "outputs": [],
   "source": [
    "#Handle userhandles\n",
    "inp_string=(re.sub(r'(\\B@[\\S]+\\s*|$\\B)','',inp_string))\n",
    "#Handle hashtags\n",
    "inp_string=(re.sub(r'(\\B#[a-zA-Z0-9]+\\s*|$\\B)','',inp_string))\n",
    "#handle punctuation\n",
    "final_string = re.sub(r'[^\\w\\s*]','',inp_string)\n",
    "\n"
   ]
  },
  {
   "cell_type": "code",
   "execution_count": 12,
   "metadata": {},
   "outputs": [
    {
     "name": "stdout",
     "output_type": "stream",
     "text": [
      "Cleaned tweet: Contributions of for the greater good of humanity are immense  immeasurable Greetings to all the women scientists on the  celebrated on this theme and tribute to Sir for his glorious scientific legacy of . Length of tweet = 204\n"
     ]
    }
   ],
   "source": [
    "#Print final string and length of final tweet\n",
    "\n",
    "print(f'Cleaned tweet: {final_string}. Length of tweet = {len(final_string)}')\n",
    "\n"
   ]
  }
 ],
 "metadata": {
  "kernelspec": {
   "display_name": "Python 3",
   "language": "python",
   "name": "python3"
  },
  "language_info": {
   "codemirror_mode": {
    "name": "ipython",
    "version": 3
   },
   "file_extension": ".py",
   "mimetype": "text/x-python",
   "name": "python",
   "nbconvert_exporter": "python",
   "pygments_lexer": "ipython3",
   "version": "3.7.0"
  }
 },
 "nbformat": 4,
 "nbformat_minor": 2
}
