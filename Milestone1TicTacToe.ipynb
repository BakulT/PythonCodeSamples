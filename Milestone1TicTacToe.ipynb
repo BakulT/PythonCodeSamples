{
 "cells": [
  {
   "cell_type": "markdown",
   "metadata": {},
   "source": [
    "## Function to display board\n"
   ]
  },
  {
   "cell_type": "code",
   "execution_count": 9,
   "metadata": {},
   "outputs": [],
   "source": [
    "def print_board(board):\n",
    "    clear_output()\n",
    "    print(f'{board[6]}|{board[7]}|{board[8]}')\n",
    "    print('-|-|-')\n",
    "    print(f'{board[3]}|{board[4]}|{board[5]}')\n",
    "    print('-|-|-')\n",
    "    print(f'{board[0]}|{board[1]}|{board[2]}')"
   ]
  },
  {
   "cell_type": "markdown",
   "metadata": {},
   "source": [
    "### For Individual Testing"
   ]
  },
  {
   "cell_type": "code",
   "execution_count": null,
   "metadata": {},
   "outputs": [],
   "source": [
    "from IPython.display import clear_output\n",
    "board=[' ']*9\n",
    "print_board(board)"
   ]
  },
  {
   "cell_type": "markdown",
   "metadata": {},
   "source": [
    "## Function to take inputs"
   ]
  },
  {
   "cell_type": "code",
   "execution_count": 11,
   "metadata": {},
   "outputs": [],
   "source": [
    "def get_input(p_marker, board,p_id) :\n",
    "    correct_input=False\n",
    "    while(not correct_input):\n",
    "        inp=int(input(f'{p_id}: Where would you like to place your marker {p_marker}: '))\n",
    "        #later add error check to see its not already populated\n",
    "        if(board[inp]==' '):\n",
    "            board[inp]=p_marker\n",
    "            correct_input=True\n",
    "        else:\n",
    "            print('That place is already full. Pl enter again')\n",
    "            continue\n",
    "    return board"
   ]
  },
  {
   "cell_type": "markdown",
   "metadata": {},
   "source": [
    "### For function testing"
   ]
  },
  {
   "cell_type": "code",
   "execution_count": null,
   "metadata": {},
   "outputs": [],
   "source": [
    "board=get_input('O', board,'P2')\n",
    "print_board(board)"
   ]
  },
  {
   "cell_type": "markdown",
   "metadata": {},
   "source": [
    "## Function check if won or full"
   ]
  },
  {
   "cell_type": "code",
   "execution_count": 12,
   "metadata": {},
   "outputs": [],
   "source": [
    "def won_or_full(board,p_marker,p_id):\n",
    "    if ((board[0]==board[1]==board[2]==p_marker) or (board[3]==board[4]==board[5]==p_marker) or (board[6]==board[7]==board[8]==p_marker)    or (board[0]==board[3]==board[6]==p_marker) or (board[1]==board[4]==board[7]==p_marker) or (board[2]==board[5]==board[8]==p_marker) or     (board[0]==board[4]==board[8]==p_marker) or (board[2]==board[4]==board[6]==p_marker)):\n",
    "        print(f'{p_id} won the game! Congratulations')\n",
    "        return True\n",
    "    elif ' ' not in board:\n",
    "        print(\"That's a tie!\")\n",
    "        return True\n",
    "    else:\n",
    "        return False\n",
    "        "
   ]
  },
  {
   "cell_type": "markdown",
   "metadata": {},
   "source": [
    "### Internal Testing"
   ]
  },
  {
   "cell_type": "code",
   "execution_count": null,
   "metadata": {},
   "outputs": [],
   "source": [
    "won_or_full(board,'X','P1')"
   ]
  },
  {
   "cell_type": "code",
   "execution_count": null,
   "metadata": {},
   "outputs": [],
   "source": [
    "board=['X','X','X','O',' ',' ',' ','O','O']\n",
    "won_or_full(board,'X','P1')"
   ]
  },
  {
   "cell_type": "markdown",
   "metadata": {},
   "source": [
    "## Play Function"
   ]
  },
  {
   "cell_type": "code",
   "execution_count": 13,
   "metadata": {},
   "outputs": [],
   "source": [
    "def tic_tac_toe(board):\n",
    "    #get input from player\n",
    "    #add error check later to make sure it is X or O\n",
    "    print(\"entering tic_tac_toe.Asking for input...\")\n",
    "    corr_marker=False\n",
    "    while(not corr_marker):\n",
    "        player_1_marker=player_2_marker=''\n",
    "        player_1_marker=input('Player 1: Choose your marker X or O')\n",
    "        if player_1_marker=='X':\n",
    "            player_2_marker='O'\n",
    "            corr_marker=True\n",
    "        elif player_1_marker=='O':\n",
    "            player_2_marker='X'\n",
    "            corr_marker=True\n",
    "        else:\n",
    "            print('Incorrect input. Please choose again')\n",
    "    \n",
    "    wf=False  \n",
    "    print_board(board)\n",
    "    while(not(wf)):\n",
    "        #Player 1\n",
    "        board=get_input(player_1_marker, board,'P1')\n",
    "        print_board(board)\n",
    "        if(won_or_full(board,player_1_marker,'P1')):\n",
    "            wf=True\n",
    "            break;\n",
    "        \n",
    "        #Player 2:\n",
    "        board=get_input(player_2_marker, board,'P2')\n",
    "        print_board(board)\n",
    "        if(won_or_full(board,player_2_marker,'P2')):\n",
    "            wf=True\n",
    "            break;\n",
    "        "
   ]
  },
  {
   "cell_type": "code",
   "execution_count": null,
   "metadata": {},
   "outputs": [],
   "source": [
    "board=[' ']*9\n",
    "tic_tac_toe(board)"
   ]
  },
  {
   "cell_type": "code",
   "execution_count": null,
   "metadata": {},
   "outputs": [],
   "source": []
  },
  {
   "cell_type": "markdown",
   "metadata": {},
   "source": [
    "## Main Function"
   ]
  },
  {
   "cell_type": "code",
   "execution_count": 14,
   "metadata": {},
   "outputs": [
    {
     "name": "stdout",
     "output_type": "stream",
     "text": [
      "O|X|O\n",
      "-|-|-\n",
      "O|O|X\n",
      "-|-|-\n",
      "X|O|X\n",
      "That's a tie!\n",
      "Do you want to play again (Y/N)?N\n",
      "Thanks for playing. Bye!\n"
     ]
    }
   ],
   "source": [
    "want_to_play=True\n",
    "print('Starting game')\n",
    "from IPython.display import clear_output\n",
    "while (want_to_play):\n",
    "    #initialize board\n",
    "    board=[' ']*9\n",
    "    print_board(board)\n",
    "    \n",
    "    #play game\n",
    "    tic_tac_toe(board)\n",
    "       \n",
    "    # check if want to play again. If not set want_to_play to false\n",
    "    \n",
    "    chk=input('Do you want to play again (Y/N)?')\n",
    "    if chk.lower()=='n':\n",
    "        want_to_play=False\n",
    "        print(\"Thanks for playing. Bye!\")\n",
    "    "
   ]
  },
  {
   "cell_type": "code",
   "execution_count": null,
   "metadata": {},
   "outputs": [],
   "source": []
  }
 ],
 "metadata": {
  "kernelspec": {
   "display_name": "Python 3",
   "language": "python",
   "name": "python3"
  },
  "language_info": {
   "codemirror_mode": {
    "name": "ipython",
    "version": 3
   },
   "file_extension": ".py",
   "mimetype": "text/x-python",
   "name": "python",
   "nbconvert_exporter": "python",
   "pygments_lexer": "ipython3",
   "version": "3.7.0"
  }
 },
 "nbformat": 4,
 "nbformat_minor": 2
}
