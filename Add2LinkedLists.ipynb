{
 "cells": [
  {
   "cell_type": "code",
   "execution_count": 70,
   "metadata": {},
   "outputs": [],
   "source": [
    "#Node hold value and pointer to next\n",
    "class Node:\n",
    "    def __init__(self, val=None):\n",
    "        self.val = val\n",
    "        self.next = None\n",
    "\n",
    "class SLinkedList:\n",
    "    def __init__(self):\n",
    "        self.head = None\n",
    "    \n",
    "    def add_node(self,val):\n",
    "        NewNode=Node(val)\n",
    "        NewNode.next=self.head\n",
    "        self.head=NewNode\n",
    "             \n",
    "     \n",
    "        \n",
    "    def traverse(self):\n",
    "        currptr=self.head\n",
    "        ret_list=[]\n",
    "        while currptr:\n",
    "            ret_list.append(currptr.val)\n",
    " #           print(f'Appended {currptr.val}')\n",
    "            currptr=currptr.next\n",
    "#            print(f'Next value:{currptr.val}')\n",
    "        print(ret_list)\n",
    "        return ret_list\n",
    "     \n",
    "    def add_lists(self,list1,list2):\n",
    "        sumnodes=[Node()]\n",
    "        sumval=0\n",
    "        carry=0\n",
    "       \n",
    "        n1=list1.head\n",
    "        n2=list2.head\n",
    "        \n",
    "        while n1 or n2:\n",
    "            FirstNum=0 if n1 is None else n1.val\n",
    "            SecondNum=0 if n2 is None else n2.val\n",
    "            totalNum=FirstNum+SecondNum+carry\n",
    "              \n",
    "   #         print(f'n1 value is: {FirstNum}, n2 value is {SecondNum},carry is {carry},sum is {totalNum}')\n",
    "            if totalNum>=10:\n",
    "                carry=1\n",
    "                totalNum-=10\n",
    "    #            print(f'Carry is {carry}, Sum is {totalNum}')\n",
    "         \n",
    "            AddNode=Node(totalNum)    \n",
    "            \n",
    "            if self.head is None:\n",
    "                self.head=AddNode\n",
    "            else:\n",
    "                prevnode.next=AddNode\n",
    "            prevnode=AddNode\n",
    "            \n",
    "            if n1:\n",
    "                n1=n1.next\n",
    "            \n",
    "            if n2:\n",
    "                n2=n2.next\n",
    "        \n",
    "                \n",
    "        \n",
    "                "
   ]
  },
  {
   "cell_type": "code",
   "execution_count": 71,
   "metadata": {},
   "outputs": [],
   "source": [
    "NewList1=SLinkedList()\n",
    "NewList1.add_node(3)\n",
    "NewList1.add_node(4)\n",
    "NewList1.add_node(2)\n"
   ]
  },
  {
   "cell_type": "code",
   "execution_count": 72,
   "metadata": {},
   "outputs": [
    {
     "name": "stdout",
     "output_type": "stream",
     "text": [
      "[2, 4, 3]\n"
     ]
    },
    {
     "data": {
      "text/plain": [
       "[2, 4, 3]"
      ]
     },
     "execution_count": 72,
     "metadata": {},
     "output_type": "execute_result"
    }
   ],
   "source": [
    "NewList1.traverse()"
   ]
  },
  {
   "cell_type": "code",
   "execution_count": 73,
   "metadata": {},
   "outputs": [
    {
     "name": "stdout",
     "output_type": "stream",
     "text": [
      "[6, 7]\n"
     ]
    },
    {
     "data": {
      "text/plain": [
       "[6, 7]"
      ]
     },
     "execution_count": 73,
     "metadata": {},
     "output_type": "execute_result"
    }
   ],
   "source": [
    "NewList2=SLinkedList()\n",
    "NewList2.add_node(7)\n",
    "NewList2.add_node(6)\n",
    "#NewList2.add_node(5)\n",
    "NewList2.traverse()"
   ]
  },
  {
   "cell_type": "code",
   "execution_count": 74,
   "metadata": {},
   "outputs": [
    {
     "name": "stdout",
     "output_type": "stream",
     "text": [
      "n1 value is: 2, n2 value is 6,carry is 0,sum is 8\n",
      "n1 value is: 4, n2 value is 7,carry is 0,sum is 11\n",
      "Carry is 1, Sum is 1\n",
      "n1 value is: 3, n2 value is 0,carry is 1,sum is 4\n",
      "[8, 1, 4]\n"
     ]
    },
    {
     "data": {
      "text/plain": [
       "[8, 1, 4]"
      ]
     },
     "execution_count": 74,
     "metadata": {},
     "output_type": "execute_result"
    }
   ],
   "source": [
    "result=SLinkedList()\n",
    "result.add_lists(NewList1,NewList2)\n",
    "result.traverse()"
   ]
  },
  {
   "cell_type": "code",
   "execution_count": null,
   "metadata": {},
   "outputs": [],
   "source": []
  }
 ],
 "metadata": {
  "kernelspec": {
   "display_name": "Python 3",
   "language": "python",
   "name": "python3"
  },
  "language_info": {
   "codemirror_mode": {
    "name": "ipython",
    "version": 3
   },
   "file_extension": ".py",
   "mimetype": "text/x-python",
   "name": "python",
   "nbconvert_exporter": "python",
   "pygments_lexer": "ipython3",
   "version": "3.7.0"
  }
 },
 "nbformat": 4,
 "nbformat_minor": 2
}
